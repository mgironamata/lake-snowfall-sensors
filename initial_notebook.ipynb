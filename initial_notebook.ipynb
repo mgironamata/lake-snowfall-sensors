{
 "cells": [
  {
   "cell_type": "code",
   "execution_count": null,
   "metadata": {},
   "outputs": [],
   "source": [
    "import numpy as np\n",
    "import pandas as pd\n",
    "import matplotlib.pyplot as plt"
   ]
  },
  {
   "cell_type": "code",
   "execution_count": null,
   "metadata": {},
   "outputs": [],
   "source": [
    "def generate_correlated_snowfall(num_steps, phi=0.9, mean_snowfall=0.1, std_snowfall=0.05, timestep_minutes=10):\n",
    "    \"\"\"\n",
    "    Generate a correlated snowfall time series using an AR(1) model.\n",
    "\n",
    "    Parameters:\n",
    "    - num_steps: int, number of timesteps to generate snowfall data for.\n",
    "    - phi: float, correlation coefficient for the AR(1) model.\n",
    "    - mean_snowfall: float, mean snowfall amount per timestep.\n",
    "    - std_snowfall: float, standard deviation of snowfall amount per timestep.\n",
    "    - timestep_minutes: int, minutes per timestep (default is 10 minutes).\n",
    "\n",
    "    Returns:\n",
    "    - snowfall_series: array, synthetic snowfall amounts for each timestep.\n",
    "    \"\"\"\n",
    "    np.random.seed(42)  # For reproducibility\n",
    "    epsilon = np.random.normal(0, std_snowfall, num_steps)  # White noise\n",
    "    snowfall_series = np.zeros(num_steps)\n",
    "\n",
    "    for t in range(1, num_steps):\n",
    "        snowfall_series[t] = phi * snowfall_series[t-1] + epsilon[t] + mean_snowfall\n",
    "\n",
    "    snowfall_series[snowfall_series < 0] = 0  # Remove negative snowfall values\n",
    "    return snowfall_series\n",
    "\n",
    "# Example usage\n",
    "num_steps = 144*7  # For a 24-hour period with 10-minute timesteps\n",
    "snowfall_series = generate_correlated_snowfall(num_steps)\n"
   ]
  },
  {
   "cell_type": "code",
   "execution_count": null,
   "metadata": {},
   "outputs": [],
   "source": [
    "def simulate_pressure_dynamics(snowfall_series, snow_density=1, drainage_coefficient=0.01, melt_coefficient=0.01):\n",
    "    \"\"\"\n",
    "    Simulate pressure dynamics on the lake's surface due to snowfall and drainage.\n",
    "\n",
    "    Parameters:\n",
    "    - snowfall_series: array, snowfall amounts for each timestep.\n",
    "    - snow_density: float, density of snow (kg/m^3). Default is an approximate value.\n",
    "    - drainage_coefficient: float, represents the rate of drainage affecting pressure reduction.\n",
    "\n",
    "    Returns:\n",
    "    - pressure_series: array, simulated pressure on the lake's surface per unit area.\n",
    "    \"\"\"\n",
    "    pressure_series = np.zeros_like(snowfall_series)\n",
    "    for t in range(1, len(snowfall_series)):\n",
    "        added_weight = snowfall_series[t] * snow_density  # Weight added at timestep t\n",
    "        pressure_series[t] = pressure_series[t-1] + added_weight - (drainage_coefficient * pressure_series[t-1]) \n",
    "        if pressure_series[t] < 0:\n",
    "            pressure_series[t] = 0  # Ensuring pressure does not go negative\n",
    "    return pressure_series"
   ]
  },
  {
   "cell_type": "code",
   "execution_count": null,
   "metadata": {},
   "outputs": [],
   "source": [
    "# Let's simulate the pressure dynamics based on our generated snowfall series.\n",
    "pressure_series = simulate_pressure_dynamics(snowfall_series)"
   ]
  },
  {
   "cell_type": "code",
   "execution_count": null,
   "metadata": {},
   "outputs": [],
   "source": [
    "plt.figure(figsize=(20,5))\n",
    "plt.plot(snowfall_series)\n",
    "plt.show()"
   ]
  },
  {
   "cell_type": "code",
   "execution_count": null,
   "metadata": {},
   "outputs": [],
   "source": [
    "plt.figure(figsize=(20,5))\n",
    "plt.plot(pressure_series)\n",
    "plt.show()"
   ]
  },
  {
   "cell_type": "code",
   "execution_count": null,
   "metadata": {},
   "outputs": [],
   "source": []
  }
 ],
 "metadata": {
  "language_info": {
   "name": "python"
  }
 },
 "nbformat": 4,
 "nbformat_minor": 2
}
